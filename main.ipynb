{
 "cells": [
  {
   "cell_type": "code",
   "execution_count": 2,
   "metadata": {},
   "outputs": [],
   "source": [
    "\"\"\"\n",
    "Universidad del Valle de Guatemala\n",
    "HT2 2\n",
    "Mineria de datos\n",
    "Roberto Rios, 20979\n",
    "Javier Valle, 20159\n",
    "\"\"\"\n",
    "\n",
    "import pandas as pd\n",
    "import numpy as np\n",
    "import matplotlib.pyplot as pl\n",
    "from sklearn.cluster import KMeans\n",
    "import sklearn.cluster as cluster\n",
    "import scipy.cluster.hierarchy as sch"
   ]
  },
  {
   "cell_type": "code",
   "execution_count": 34,
   "metadata": {},
   "outputs": [
    {
     "name": "stdout",
     "output_type": "stream",
     "text": [
      "Index(['id', 'budget', 'genres', 'homePage', 'productionCompany',\n",
      "       'productionCompanyCountry', 'productionCountry', 'revenue', 'runtime',\n",
      "       'video', 'director', 'actors', 'actorsPopularity', 'actorsCharacter',\n",
      "       'originalTitle', 'title', 'originalLanguage', 'popularity',\n",
      "       'releaseDate', 'voteAvg', 'voteCount', 'genresAmount',\n",
      "       'productionCoAmount', 'productionCountriesAmount', 'actorsAmount',\n",
      "       'castWomenAmount', 'castMenAmount'],\n",
      "      dtype='object')\n"
     ]
    }
   ],
   "source": [
    "# Ejercicio 1\n",
    "\n",
    "# Cargando el csv con pandas.\n",
    "import pandas as pd\n",
    "\n",
    "df = pd.read_csv(\"movies.csv\", encoding='ISO-8859-1')\n",
    "\n",
    "# Imprimendo todas las columnas.\n",
    "print(df.columns)\n",
    "\n"
   ]
  },
  {
   "cell_type": "code",
   "execution_count": 83,
   "metadata": {},
   "outputs": [
    {
     "name": "stderr",
     "output_type": "stream",
     "text": [
      "c:\\Users\\paqui\\AppData\\Local\\Programs\\Python\\Python39\\lib\\site-packages\\sklearn\\base.py:420: UserWarning: X does not have valid feature names, but NearestNeighbors was fitted with feature names\n",
      "  warnings.warn(\n",
      "c:\\Users\\paqui\\AppData\\Local\\Programs\\Python\\Python39\\lib\\site-packages\\sklearn\\base.py:420: UserWarning: X does not have valid feature names, but NearestNeighbors was fitted with feature names\n",
      "  warnings.warn(\n"
     ]
    },
    {
     "name": "stdout",
     "output_type": "stream",
     "text": [
      "Hopkins statistic: 0.9999998601259021\n"
     ]
    }
   ],
   "source": [
    "# ejercicio 2\n",
    "\n",
    "# hopkins\n",
    "\n",
    "from sklearn.preprocessing import scale, MinMaxScaler, normalize\n",
    "import numpy as np\n",
    "from sklearn.neighbors import NearestNeighbors\n",
    "import pandas as pd\n",
    "from pyclustertend import vat\n",
    "\n",
    "df = pd.read_csv(\"movies.csv\", encoding='ISO-8859-1')\n",
    "\n",
    "# dejar unicamente las columnas numericas\n",
    "numerical_cols = df.select_dtypes(include=['int64', 'float64']).columns\n",
    "df2 = df[numerical_cols]\n",
    "df2 = df.drop('id',axis=1)\n",
    "\n",
    "\n",
    "def hopkins(X: pd.DataFrame):\n",
    "    m, d = X.shape\n",
    "    # aplicar un modelo para encontrar al k-nn de los puntos en el dataset\n",
    "    nbrs = NearestNeighbors(n_neighbors=1).fit(X)\n",
    "    \n",
    "    # data random para comparar\n",
    "    rand_X = np.random.uniform(low=X.min(), high=X.max(), size=(m, d))\n",
    "\n",
    "    # hayar kneighbors\n",
    "    rand_nbrs_dist, _ = nbrs.kneighbors(rand_X)\n",
    "    data_nbrs_dist, _ = nbrs.kneighbors(normalize(X))\n",
    "\n",
    "    \n",
    "    # obtener el hopkins statistic\n",
    "    hopkins = sum(rand_nbrs_dist) / (sum(rand_nbrs_dist) + sum(data_nbrs_dist))\n",
    "\n",
    "    return hopkins[0]\n",
    "\n",
    "\n",
    "# compute the Hopkins statistic\n",
    "hopkins_statistic = hopkins(df2)\n",
    "\n",
    "print(\"Hopkins statistic:\", hopkins_statistic)\n",
    "\n"
   ]
  },
  {
   "cell_type": "code",
   "execution_count": 18,
   "metadata": {},
   "outputs": [
    {
     "ename": "MemoryError",
     "evalue": "Unable to allocate 50.8 MiB for an array with shape (10000, 5330) and data type uint8",
     "output_type": "error",
     "traceback": [
      "\u001b[1;31m---------------------------------------------------------------------------\u001b[0m",
      "\u001b[1;31mMemoryError\u001b[0m                               Traceback (most recent call last)",
      "Cell \u001b[1;32mIn[18], line 27\u001b[0m\n\u001b[0;32m     25\u001b[0m df_encoded \u001b[39m=\u001b[39m df\u001b[39m.\u001b[39mdrop(\u001b[39m'\u001b[39m\u001b[39mid\u001b[39m\u001b[39m'\u001b[39m,axis\u001b[39m=\u001b[39m\u001b[39m1\u001b[39m)\n\u001b[0;32m     26\u001b[0m df_encoded \u001b[39m=\u001b[39m df\u001b[39m.\u001b[39mselect_dtypes(exclude\u001b[39m=\u001b[39m[\u001b[39m'\u001b[39m\u001b[39mint64\u001b[39m\u001b[39m'\u001b[39m, \u001b[39m'\u001b[39m\u001b[39mfloat64\u001b[39m\u001b[39m'\u001b[39m])\u001b[39m.\u001b[39mcolumns\n\u001b[1;32m---> 27\u001b[0m df_encoded \u001b[39m=\u001b[39m pd\u001b[39m.\u001b[39;49mget_dummies(df, columns\u001b[39m=\u001b[39;49m[\u001b[39m'\u001b[39;49m\u001b[39mproductionCompany\u001b[39;49m\u001b[39m'\u001b[39;49m,\n\u001b[0;32m     28\u001b[0m        \u001b[39m'\u001b[39;49m\u001b[39mproductionCompanyCountry\u001b[39;49m\u001b[39m'\u001b[39;49m, \u001b[39m'\u001b[39;49m\u001b[39mproductionCountry\u001b[39;49m\u001b[39m'\u001b[39;49m,\n\u001b[0;32m     29\u001b[0m        \u001b[39m'\u001b[39;49m\u001b[39mdirector\u001b[39;49m\u001b[39m'\u001b[39;49m,\n\u001b[0;32m     30\u001b[0m        \u001b[39m'\u001b[39;49m\u001b[39moriginalLanguage\u001b[39;49m\u001b[39m'\u001b[39;49m,\n\u001b[0;32m     31\u001b[0m        \u001b[39m'\u001b[39;49m\u001b[39mproductionCoAmount\u001b[39;49m\u001b[39m'\u001b[39;49m, \u001b[39m'\u001b[39;49m\u001b[39mproductionCountriesAmount\u001b[39;49m\u001b[39m'\u001b[39;49m, \u001b[39m'\u001b[39;49m\u001b[39mactorsAmount\u001b[39;49m\u001b[39m'\u001b[39;49m,\n\u001b[0;32m     32\u001b[0m        \u001b[39m'\u001b[39;49m\u001b[39mcastWomenAmount\u001b[39;49m\u001b[39m'\u001b[39;49m, \u001b[39m'\u001b[39;49m\u001b[39mcastMenAmount\u001b[39;49m\u001b[39m'\u001b[39;49m])\n\u001b[0;32m     34\u001b[0m \u001b[39m# obtain vat matrix\u001b[39;00m\n\u001b[0;32m     35\u001b[0m v \u001b[39m=\u001b[39m vat(df_encoded)\n",
      "File \u001b[1;32mc:\\Users\\paqui\\AppData\\Local\\Programs\\Python\\Python39\\lib\\site-packages\\pandas\\core\\reshape\\reshape.py:893\u001b[0m, in \u001b[0;36mget_dummies\u001b[1;34m(data, prefix, prefix_sep, dummy_na, columns, sparse, drop_first, dtype)\u001b[0m\n\u001b[0;32m    889\u001b[0m     with_dummies \u001b[39m=\u001b[39m [data\u001b[39m.\u001b[39mselect_dtypes(exclude\u001b[39m=\u001b[39mdtypes_to_encode)]\n\u001b[0;32m    891\u001b[0m \u001b[39mfor\u001b[39;00m (col, pre, sep) \u001b[39min\u001b[39;00m \u001b[39mzip\u001b[39m(data_to_encode\u001b[39m.\u001b[39mitems(), prefix, prefix_sep):\n\u001b[0;32m    892\u001b[0m     \u001b[39m# col is (column_name, column), use just column data here\u001b[39;00m\n\u001b[1;32m--> 893\u001b[0m     dummy \u001b[39m=\u001b[39m _get_dummies_1d(\n\u001b[0;32m    894\u001b[0m         col[\u001b[39m1\u001b[39;49m],\n\u001b[0;32m    895\u001b[0m         prefix\u001b[39m=\u001b[39;49mpre,\n\u001b[0;32m    896\u001b[0m         prefix_sep\u001b[39m=\u001b[39;49msep,\n\u001b[0;32m    897\u001b[0m         dummy_na\u001b[39m=\u001b[39;49mdummy_na,\n\u001b[0;32m    898\u001b[0m         sparse\u001b[39m=\u001b[39;49msparse,\n\u001b[0;32m    899\u001b[0m         drop_first\u001b[39m=\u001b[39;49mdrop_first,\n\u001b[0;32m    900\u001b[0m         dtype\u001b[39m=\u001b[39;49mdtype,\n\u001b[0;32m    901\u001b[0m     )\n\u001b[0;32m    902\u001b[0m     with_dummies\u001b[39m.\u001b[39mappend(dummy)\n\u001b[0;32m    903\u001b[0m result \u001b[39m=\u001b[39m concat(with_dummies, axis\u001b[39m=\u001b[39m\u001b[39m1\u001b[39m)\n",
      "File \u001b[1;32mc:\\Users\\paqui\\AppData\\Local\\Programs\\Python\\Python39\\lib\\site-packages\\pandas\\core\\reshape\\reshape.py:1009\u001b[0m, in \u001b[0;36m_get_dummies_1d\u001b[1;34m(data, prefix, prefix_sep, dummy_na, sparse, drop_first, dtype)\u001b[0m\n\u001b[0;32m   1006\u001b[0m     \u001b[39mreturn\u001b[39;00m out\n\u001b[0;32m   1008\u001b[0m \u001b[39melse\u001b[39;00m:\n\u001b[1;32m-> 1009\u001b[0m     dummy_mat \u001b[39m=\u001b[39m np\u001b[39m.\u001b[39;49meye(number_of_cols, dtype\u001b[39m=\u001b[39;49mdtype)\u001b[39m.\u001b[39;49mtake(codes, axis\u001b[39m=\u001b[39;49m\u001b[39m0\u001b[39;49m)\n\u001b[0;32m   1011\u001b[0m     \u001b[39mif\u001b[39;00m \u001b[39mnot\u001b[39;00m dummy_na:\n\u001b[0;32m   1012\u001b[0m         \u001b[39m# reset NaN GH4446\u001b[39;00m\n\u001b[0;32m   1013\u001b[0m         dummy_mat[codes \u001b[39m==\u001b[39m \u001b[39m-\u001b[39m\u001b[39m1\u001b[39m] \u001b[39m=\u001b[39m \u001b[39m0\u001b[39m\n",
      "\u001b[1;31mMemoryError\u001b[0m: Unable to allocate 50.8 MiB for an array with shape (10000, 5330) and data type uint8"
     ]
    }
   ],
   "source": [
    "# VAT\n",
    "\n",
    "\"\"\"\n",
    "      ['budget', 'genres', 'homePage', 'productionCompany',\n",
    "       'productionCompanyCountry', 'productionCountry', 'revenue', 'runtime',\n",
    "       'video', 'director', 'actors', 'actorsPopularity', 'actorsCharacter',\n",
    "       'originalTitle', 'title', 'originalLanguage', 'popularity',\n",
    "       'releaseDate', 'voteAvg', 'voteCount', 'genresAmount',\n",
    "       'productionCoAmount', 'productionCountriesAmount', 'actorsAmount',\n",
    "       'castWomenAmount', 'castMenAmount']\n",
    "\n",
    "\n",
    "\"\"\"\n",
    "\n",
    "\n",
    "from sklearn.preprocessing import scale, MinMaxScaler, normalize\n",
    "import numpy as np\n",
    "from sklearn.neighbors import NearestNeighbors\n",
    "import pandas as pd\n",
    "from pyclustertend import vat\n",
    "\n",
    "df = pd.read_csv(\"movies.csv\", encoding='ISO-8859-1')\n",
    "\n",
    "# convert the categorical features in the dataset to numerical \n",
    "df_encoded = df.drop('id',axis=1)\n",
    "df_encoded = df.select_dtypes(exclude=['int64', 'float64']).columns\n",
    "df_encoded = pd.get_dummies(df, columns=['productionCompany',\n",
    "       'productionCompanyCountry', 'productionCountry',\n",
    "       'director',\n",
    "       'originalLanguage',\n",
    "       'productionCoAmount', 'productionCountriesAmount', 'actorsAmount',\n",
    "       'castWomenAmount', 'castMenAmount'])\n",
    "\n",
    "# obtain vat matrix\n",
    "v = vat(df_encoded)"
   ]
  },
  {
   "cell_type": "code",
   "execution_count": 22,
   "metadata": {},
   "outputs": [
    {
     "ename": "NameError",
     "evalue": "name 'KMeans' is not defined",
     "output_type": "error",
     "traceback": [
      "\u001b[1;31m---------------------------------------------------------------------------\u001b[0m",
      "\u001b[1;31mNameError\u001b[0m                                 Traceback (most recent call last)",
      "Cell \u001b[1;32mIn[22], line 16\u001b[0m\n\u001b[0;32m     14\u001b[0m \u001b[39m# Cálculo de la varianza dentro del cluster.\u001b[39;00m\n\u001b[0;32m     15\u001b[0m \u001b[39mfor\u001b[39;00m k \u001b[39min\u001b[39;00m clusters:\n\u001b[1;32m---> 16\u001b[0m     kmeans \u001b[39m=\u001b[39m KMeans(n_clusters\u001b[39m=\u001b[39mk)\n\u001b[0;32m     17\u001b[0m     kmeans\u001b[39m.\u001b[39mfit(X)\n\u001b[0;32m     18\u001b[0m     wcss\u001b[39m.\u001b[39mappend(kmeans\u001b[39m.\u001b[39minertia_)\n",
      "\u001b[1;31mNameError\u001b[0m: name 'KMeans' is not defined"
     ]
    }
   ],
   "source": [
    "import numpy as np\n",
    "\n",
    "# Primera gráfica de codo.\n",
    "\n",
    "# Creando un arreglo con los datos de las columnas a utilizar.\n",
    "X = np.array(df[[\"voteAvg\", \"voteCount\", \"popularity\", \"budget\", \"revenue\", \"runtime\"]])\n",
    "\n",
    "\n",
    "# Ejercicio 3: Calcular el número adecuado de grupos a formar.\n",
    "\n",
    "clusters = range(1, 11)\n",
    "wcss = []\n",
    "\n",
    "# Cálculo de la varianza dentro del cluster.\n",
    "for k in clusters:\n",
    "    kmeans = KMeans(n_clusters=k)\n",
    "    kmeans.fit(X)\n",
    "    wcss.append(kmeans.inertia_)\n",
    "\n",
    "# Graficando la varianza dentro del cluster.\n",
    "pl.plot(clusters, wcss)\n",
    "pl.title('Gráfica de codo')\n",
    "pl.xlabel('Número de clusters')\n",
    "pl.ylabel('Varianza dentro del cluster')\n",
    "pl.show()\n",
    "\n",
    "# Segunda gráfica de codo.\n",
    "\n",
    "# Creando un arreglo con los datos de las columnas a utilizar.\n",
    "Y = np.array(df[[\"genresAmount\",\"voteAvg\", \"genresAmount\"]])\n",
    "\n",
    "clusters = range(1, 11)\n",
    "wcss = []\n",
    "\n",
    "# Cálculo de la varianza dentro del cluster.\n",
    "for k in clusters:\n",
    "    kmeans = KMeans(n_clusters=k)\n",
    "    kmeans.fit(Y)\n",
    "    wcss.append(kmeans.inertia_)\n",
    "\n",
    "# Graficando la varianza dentro del cluster.\n",
    "pl.plot(clusters, wcss)\n",
    "pl.title('Gráfica 2 de codo')\n",
    "pl.xlabel('Número de clusters')\n",
    "pl.ylabel('Varianza dentro del cluster')\n",
    "pl.show()\n",
    "\n",
    "# Tercera gráfica de codo.\n",
    "\n",
    "# Creando un arreglo con los datos de las columnas a utilizar.\n",
    "Z = np.array(df[[\"productionCoAmount\", \"productionCountriesAmount\", \"castWomenAmount\", \"castMenAmount\"]])\n",
    "\n",
    "clusters = range(1, 11)\n",
    "wcss = []\n",
    "\n",
    "# Cálculo de la varianza dentro del cluster.\n",
    "for k in clusters:\n",
    "    kmeans = KMeans(n_clusters=k)\n",
    "    kmeans.fit(Y)\n",
    "    wcss.append(kmeans.inertia_)\n",
    "\n",
    "# Graficando la varianza dentro del cluster.\n",
    "pl.plot(clusters, wcss)\n",
    "pl.title('Gráfica 3 de codo')\n",
    "pl.xlabel('Número de clusters')\n",
    "pl.ylabel('Varianza dentro del cluster')\n",
    "pl.show()"
   ]
  },
  {
   "cell_type": "code",
   "execution_count": 13,
   "metadata": {},
   "outputs": [
    {
     "name": "stderr",
     "output_type": "stream",
     "text": [
      "C:\\Users\\sebas\\AppData\\Local\\Packages\\PythonSoftwareFoundation.Python.3.10_qbz5n2kfra8p0\\LocalCache\\local-packages\\Python310\\site-packages\\sklearn\\cluster\\_agglomerative.py:983: FutureWarning: Attribute `affinity` was deprecated in version 1.2 and will be removed in 1.4. Use `metric` instead\n",
      "  warnings.warn(\n"
     ]
    },
    {
     "name": "stdout",
     "output_type": "stream",
     "text": [
      "[1 3 0 ... 3 3 3]\n"
     ]
    },
    {
     "name": "stderr",
     "output_type": "stream",
     "text": [
      "C:\\Users\\sebas\\AppData\\Local\\Packages\\PythonSoftwareFoundation.Python.3.10_qbz5n2kfra8p0\\LocalCache\\local-packages\\Python310\\site-packages\\sklearn\\cluster\\_agglomerative.py:983: FutureWarning: Attribute `affinity` was deprecated in version 1.2 and will be removed in 1.4. Use `metric` instead\n",
      "  warnings.warn(\n"
     ]
    },
    {
     "name": "stdout",
     "output_type": "stream",
     "text": [
      "[1 3 0 ... 3 3 3]\n"
     ]
    },
    {
     "data": {
      "text/plain": [
       "<matplotlib.legend.Legend at 0x16bb48be260>"
      ]
     },
     "execution_count": 13,
     "metadata": {},
     "output_type": "execute_result"
    },
    {
     "data": {
      "image/png": "[encoded data removed]",
      "text/plain": [
       "<Figure size 640x480 with 1 Axes>"
      ]
     },
     "metadata": {},
     "output_type": "display_data"
    }
   ],
   "source": [
    "from sklearn.cluster import KMeans\n",
    "\n",
    "# Ejercicio 4: Usar los algoritmos k-medias y cluster jerárquico para agrupar los datos.\n",
    "\n",
    "# Creando el modelo de k-medias. Cluster X.\n",
    "kmeans = KMeans(n_clusters=5)\n",
    "kmeans.fit(X)\n",
    "\n",
    "# Calculando el centroide de cada cluster.\n",
    "centroids = kmeans.cluster_centers_\n",
    "print(centroids)\n",
    "\n",
    "cluster1 = kmeans.predict(X)\n",
    "\n",
    "# Graficando los clusters.\n",
    "pl.scatter(X[cluster1 == 0, 0], X[cluster1 == 0, 1],s=100,c='red', label = \"Cluster 1\")\n",
    "pl.scatter(X[cluster1 == 1, 0], X[cluster1 == 1, 1],s=100,c='blue', label = \"Cluster 1\")\n",
    "pl.scatter(X[cluster1 == 2, 0], X[cluster1 == 2, 1],s=100,c='green', label = \"Cluster 1\")\n",
    "pl.scatter(kmeans.cluster_centers_[:,0],kmeans.cluster_centers_[:,1], s=300, c=\"yellow\",marker=\"*\", label=\"Centroides\")\n",
    "pl.title(\"Grupo 1\")\n",
    "pl.xlabel(\"Cluster1.length\")\n",
    "pl.ylabel(\"Cluster1.width\")\n",
    "pl.legend()\n",
    "\n",
    "# Creando el modelo de k-medias. Cluster Y.\n",
    "kmeans = KMeans(n_clusters=5)\n",
    "kmeans.fit(Y)\n",
    "\n",
    "# Calculando el centroide de cada cluster.\n",
    "centroids = kmeans.cluster_centers_\n",
    "print(centroids)\n",
    "\n",
    "cluster2 = kmeans.predict(Y)\n",
    "\n",
    "\n",
    "# Graficando los clusters.\n",
    "pl.scatter(Y[cluster2 == 0, 0], Y[cluster2 == 0, 1],s=100,c='red', label = \"Cluster 2\")\n",
    "pl.scatter(Y[cluster2 == 1, 0], Y[cluster2 == 1, 1],s=100,c='blue', label = \"Cluster 2\")\n",
    "pl.scatter(Y[cluster2 == 2, 0], Y[cluster2 == 2, 1],s=100,c='green', label = \"Cluster 2\")\n",
    "pl.scatter(kmeans.cluster_centers_[:,0],kmeans.cluster_centers_[:,1], s=300, c=\"yellow\",marker=\"*\", label=\"Centroides\")\n",
    "pl.title(\"Clusters\")\n",
    "pl.xlabel(\"Cluster1.length\")\n",
    "pl.ylabel(\"Cluster1.width\")\n",
    "pl.legend()\n",
    "\n",
    "\n",
    "# Aplicando el clustering jerárquico a nuestro dataset. Cluster X.\n",
    "jer1 = sch.dendrogram(sch.linkage(X, method = 'ward'))\n",
    "\n",
    "hc1 = cluster.AgglomerativeClustering(n_clusters=5, affinity='euclidean', linkage='ward')\n",
    "especieHC1 = hc1.fit_predict(Y)\n",
    "\n",
    "print(especieHC1)\n",
    "\n",
    "pl.scatter(X[especieHC1 == 0, 0], X[especieHC1 == 0, 1],s=100,c='red', label = \"Cluster 1\")\n",
    "pl.scatter(X[especieHC1 == 1, 0], X[especieHC1 == 1, 1],s=100,c='blue', label = \"Cluster 2\")\n",
    "pl.scatter(X[especieHC1 == 2, 0], X[especieHC1 == 2, 1],s=100,c='green', label = \"Cluster 3\")\n",
    "pl.scatter(kmeans.cluster_centers_[:,0],kmeans.cluster_centers_[:,1], s=300, c=\"yellow\",marker=\"*\", label=\"Centroides\")\n",
    "pl.title(\"Clusters\")\n",
    "pl.xlabel(\"Clusters.length\")\n",
    "pl.ylabel(\"Clusters.width\")\n",
    "pl.legend()\n",
    "\n",
    "# Aplicando el clustering jerárquico a nuestro dataset. Cluster X.\n",
    "jer2 = sch.dendrogram(sch.linkage(Y, method = 'ward'))\n",
    "\n",
    "hc2 = cluster.AgglomerativeClustering(n_clusters=5, affinity='euclidean', linkage='ward')\n",
    "especieHC2 = hc1.fit_predict(Y)\n",
    "\n",
    "print(especieHC1)\n",
    "\n",
    "pl.scatter(Y[especieHC2 == 0, 0], Y[especieHC2 == 0, 1],s=100,c='red', label = \"Cluster 1\")\n",
    "pl.scatter(Y[especieHC2 == 1, 0], Y[especieHC2 == 1, 1],s=100,c='blue', label = \"Cluster 2\")\n",
    "pl.scatter(Y[especieHC2 == 2, 0], Y[especieHC2 == 2, 1],s=100,c='green', label = \"Cluster 3\")\n",
    "pl.scatter(kmeans.cluster_centers_[:,0],kmeans.cluster_centers_[:,1], s=300, c=\"yellow\",marker=\"*\", label=\"Centroides\")\n",
    "pl.title(\"Clusters\")\n",
    "pl.xlabel(\"Clusters.length\")\n",
    "pl.ylabel(\"Clusters.width\")\n",
    "pl.legend()"
   ]
  },
  {
   "cell_type": "code",
   "execution_count": null,
   "metadata": {},
   "outputs": [],
   "source": [
    "# ejercicio 5\n",
    "\n"
   ]
  },
  {
   "cell_type": "code",
   "execution_count": null,
   "metadata": {},
   "outputs": [],
   "source": [
    "# ejercicio 6\n",
    "\n",
    "\n"
   ]
  }
 ],
 "metadata": {
  "kernelspec": {
   "display_name": "Python 3",
   "language": "python",
   "name": "python3"
  },
  "language_info": {
   "codemirror_mode": {
    "name": "ipython",
    "version": 3
   },
   "file_extension": ".py",
   "mimetype": "text/x-python",
   "name": "python",
   "nbconvert_exporter": "python",
   "pygments_lexer": "ipython3",
   "version": "3.9.2"
  },
  "orig_nbformat": 4,
  "vscode": {
   "interpreter": {
    "hash": "7ec50762aa24fb25566ff0abb0afbc5ab2bfb318ee4e8d478709981eeb95f91e"
   }
  }
 },
 "nbformat": 4,
 "nbformat_minor": 2
}
