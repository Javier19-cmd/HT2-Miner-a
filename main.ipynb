{
 "cells": [
  {
   "cell_type": "code",
   "execution_count": 65,
   "metadata": {},
   "outputs": [],
   "source": [
    "\"\"\"\n",
    "Universidad del Valle de Guatemala\n",
    "HT2 2\n",
    "Mineria de datos\n",
    "Roberto Rios, 20979\n",
    "Javier Valle, 20159\n",
    "\"\"\"\n",
    "\n",
    "import pandas as pd\n",
    "import numpy as np\n",
    "import matplotlib.pyplot as pl\n",
    "from sklearn.cluster import KMeans\n",
    "import sklearn.cluster as cluster\n",
    "import scipy.cluster.hierarchy as sch"
   ]
  },
  {
   "cell_type": "code",
   "execution_count": 66,
   "metadata": {},
   "outputs": [
    {
     "name": "stdout",
     "output_type": "stream",
     "text": [
      "Index(['id', 'budget', 'genres', 'homePage', 'productionCompany',\n",
      "       'productionCompanyCountry', 'productionCountry', 'revenue', 'runtime',\n",
      "       'video', 'director', 'actors', 'actorsPopularity', 'actorsCharacter',\n",
      "       'originalTitle', 'title', 'originalLanguage', 'popularity',\n",
      "       'releaseDate', 'voteAvg', 'voteCount', 'genresAmount',\n",
      "       'productionCoAmount', 'productionCountriesAmount', 'actorsAmount',\n",
      "       'castWomenAmount', 'castMenAmount'],\n",
      "      dtype='object')\n"
     ]
    }
   ],
   "source": [
    "# Ejercicio 1\n",
    "\n",
    "# Cargando el csv con pandas.\n",
    "import pandas as pd\n",
    "\n",
    "df = pd.read_csv(\"movies.csv\", encoding='ISO-8859-1')\n",
    "\n",
    "# Imprimendo todas las columnas.\n",
    "print(df.columns)"
   ]
  },
  {
   "cell_type": "code",
   "execution_count": 67,
   "metadata": {},
   "outputs": [],
   "source": [
    "# ejercicio 2"
   ]
  },
  {
   "cell_type": "code",
   "execution_count": null,
   "metadata": {},
   "outputs": [],
   "source": [
    "# Primera gráfica de codo.\n",
    "\n",
    "# Creando un arreglo con los datos de las columnas a utilizar.\n",
    "X = np.array(df[[\"voteAvg\", \"voteCount\", \"popularity\", \"budget\", \"revenue\", \"runtime\"]])\n",
    "\n",
    "\n",
    "# Ejercicio 3: Calcular el número adecuado de grupos a formar.\n",
    "\n",
    "clusters = range(1, 101)\n",
    "wcss = []\n",
    "\n",
    "# Cálculo de la varianza dentro del cluster.\n",
    "for k in clusters:\n",
    "    kmeans = KMeans(n_clusters=k)\n",
    "    kmeans.fit(X)\n",
    "    wcss.append(kmeans.inertia_)\n",
    "\n",
    "# Graficando la varianza dentro del cluster.\n",
    "pl.plot(clusters, wcss)\n",
    "pl.title('Gráfica de codo')\n",
    "pl.xlabel('Número de clusters')\n",
    "pl.ylabel('Varianza dentro del cluster')\n",
    "pl.show()\n",
    "\n",
    "# Segunda gráfica de codo.\n",
    "\n",
    "# Creando un arreglo con los datos de las columnas a utilizar.\n",
    "Y = np.array(df[[\"genresAmount\",\"voteAvg\", \"voteCount\", \"genresAmount\"]])\n",
    "\n",
    "clusters = range(1, 101)\n",
    "wcss = []\n",
    "\n",
    "# Cálculo de la varianza dentro del cluster.\n",
    "for k in clusters:\n",
    "    kmeans = KMeans(n_clusters=k)\n",
    "    kmeans.fit(Y)\n",
    "    wcss.append(kmeans.inertia_)\n",
    "\n",
    "# Graficando la varianza dentro del cluster.\n",
    "pl.plot(clusters, wcss)\n",
    "pl.title('Gráfica 2 de codo')\n",
    "pl.xlabel('Número de clusters')\n",
    "pl.ylabel('Varianza dentro del cluster')\n",
    "pl.show()\n",
    "\n",
    "# Tercera gráfica de codo.\n",
    "\n",
    "# Creando un arreglo con los datos de las columnas a utilizar.\n",
    "Z = np.array(df[[\"productionCoAmount\", \"productionCountriesAmount\", \"actorsAmount\", \"castWomenAmount\", \"castMenAmount\"]])\n",
    "\n",
    "clusters = range(1, 101)\n",
    "wcss = []\n",
    "\n",
    "# Cálculo de la varianza dentro del cluster.\n",
    "for k in clusters:\n",
    "    kmeans = KMeans(n_clusters=k)\n",
    "    kmeans.fit(Y)\n",
    "    wcss.append(kmeans.inertia_)\n",
    "\n",
    "# Graficando la varianza dentro del cluster.\n",
    "pl.plot(clusters, wcss)\n",
    "pl.title('Gráfica 3 de codo')\n",
    "pl.xlabel('Número de clusters')\n",
    "pl.ylabel('Varianza dentro del cluster')\n",
    "pl.show()"
   ]
  },
  {
   "cell_type": "code",
   "execution_count": 73,
   "metadata": {},
   "outputs": [
    {
     "name": "stderr",
     "output_type": "stream",
     "text": [
      "C:\\Users\\sebas\\AppData\\Local\\Packages\\PythonSoftwareFoundation.Python.3.10_qbz5n2kfra8p0\\LocalCache\\local-packages\\Python310\\site-packages\\sklearn\\cluster\\_kmeans.py:870: FutureWarning: The default value of `n_init` will change from 10 to 'auto' in 1.4. Set the value of `n_init` explicitly to suppress the warning\n",
      "  warnings.warn(\n"
     ]
    },
    {
     "name": "stdout",
     "output_type": "stream",
     "text": [
      "[[6.84926471e+00 6.56860294e+03 1.34273637e+02 9.92072193e+07\n",
      "  3.95556500e+08 1.16938725e+02]\n",
      " [6.43350959e+00 6.15566035e+02 4.09837646e+01 6.80425893e+06\n",
      "  9.46190409e+06 9.69501968e+01]\n",
      " [6.59855293e+00 2.96241813e+03 6.83010282e+01 5.03292768e+07\n",
      "  1.42989070e+08 1.12134806e+02]\n",
      " [7.17037037e+00 1.22143111e+04 1.80798504e+02 1.53720000e+08\n",
      "  8.77747269e+08 1.30385185e+02]\n",
      " [7.60000000e+00 1.66215000e+04 9.82367333e+02 2.39416667e+08\n",
      "  1.90062248e+09 1.44666667e+02]]\n"
     ]
    },
    {
     "name": "stderr",
     "output_type": "stream",
     "text": [
      "C:\\Users\\sebas\\AppData\\Local\\Packages\\PythonSoftwareFoundation.Python.3.10_qbz5n2kfra8p0\\LocalCache\\local-packages\\Python310\\site-packages\\sklearn\\cluster\\_kmeans.py:870: FutureWarning: The default value of `n_init` will change from 10 to 'auto' in 1.4. Set the value of `n_init` explicitly to suppress the warning\n",
      "  warnings.warn(\n"
     ]
    },
    {
     "name": "stdout",
     "output_type": "stream",
     "text": [
      "[[2.52250304e+00 6.35656170e+00 3.45887552e+02 2.52250304e+00]\n",
      " [2.94505495e+00 7.72747253e+00 1.79169231e+04 2.94505495e+00]\n",
      " [2.88110749e+00 6.91498371e+00 5.24716124e+03 2.88110749e+00]\n",
      " [2.74441088e+00 6.68888218e+00 2.14871480e+03 2.74441088e+00]\n",
      " [2.99585062e+00 7.40082988e+00 1.01920166e+04 2.99585062e+00]]\n"
     ]
    }
   ],
   "source": [
    "# Ejercicio 4: Usar los algoritmos k-medias y cluster jerárquico para agrupar los datos.\n",
    "\n",
    "# Creando el modelo de k-medias. Cluster X.\n",
    "kmeans = KMeans(n_clusters=5)\n",
    "kmeans.fit(X)\n",
    "\n",
    "# Calculando el centroide de cada cluster.\n",
    "centroids = kmeans.cluster_centers_\n",
    "print(centroids)\n",
    "\n",
    "cluster1 = kmeans.predict(X)\n",
    "\n",
    "# Graficando los clusters.\n",
    "pl.scatter(X[cluster1 == 0, 0], X[cluster1 == 0, 1],s=100,c='red', label = \"Cluster 1\")\n",
    "pl.scatter(X[cluster1 == 1, 0], X[cluster1 == 1, 1],s=100,c='blue', label = \"Cluster 1\")\n",
    "pl.scatter(X[cluster1 == 2, 0], X[cluster1 == 2, 1],s=100,c='green', label = \"Cluster 1\")\n",
    "pl.scatter(kmeans.cluster_centers_[:,0],kmeans.cluster_centers_[:,1], s=300, c=\"yellow\",marker=\"*\", label=\"Centroides\")\n",
    "pl.title(\"Grupo 1\")\n",
    "pl.xlabel(\"Cluster1.length\")\n",
    "pl.ylabel(\"Cluster1.width\")\n",
    "pl.legend()\n",
    "\n",
    "# Creando el modelo de k-medias. Cluster Y.\n",
    "kmeans = KMeans(n_clusters=5)\n",
    "kmeans.fit(Y)\n",
    "\n",
    "# Calculando el centroide de cada cluster.\n",
    "centroids = kmeans.cluster_centers_\n",
    "print(centroids)\n",
    "\n",
    "cluster2 = kmeans.predict(Y)\n",
    "\n",
    "\n",
    "# Graficando los clusters.\n",
    "pl.scatter(Y[cluster2 == 0, 0], Y[cluster2 == 0, 1],s=100,c='red', label = \"Cluster 2\")\n",
    "pl.scatter(Y[cluster2 == 1, 0], Y[cluster2 == 1, 1],s=100,c='blue', label = \"Cluster 2\")\n",
    "pl.scatter(Y[cluster2 == 2, 0], Y[cluster2 == 2, 1],s=100,c='green', label = \"Cluster 2\")\n",
    "pl.scatter(kmeans.cluster_centers_[:,0],kmeans.cluster_centers_[:,1], s=300, c=\"yellow\",marker=\"*\", label=\"Centroides\")\n",
    "pl.title(\"Clusters\")\n",
    "pl.xlabel(\"Cluster1.length\")\n",
    "pl.ylabel(\"Cluster1.width\")\n",
    "pl.legend()\n",
    "\n",
    "\n",
    "# Aplicando el clustering jerárquico a nuestro dataset. Cluster X.\n",
    "jer1 = sch.dendrogram(sch.linkage(X, method = 'ward'))\n",
    "\n",
    "hc1 = cluster.AgglomerativeClustering(n_clusters=5, affinity='euclidean', linkage='ward')\n",
    "especieHC1 = hc1.fit_predict(X)\n",
    "\n",
    "print(especieHC1)\n",
    "\n",
    "pl.scatter(X[especieHC1 == 0, 0], X[especieHC1 == 0, 1],s=100,c='red', label = \"Cluster 1\")\n",
    "pl.scatter(X[especieHC1 == 1, 0], X[especieHC1 == 1, 1],s=100,c='blue', label = \"Cluster 1\")\n",
    "pl.scatter(X[especieHC1 == 2, 0], X[especieHC1 == 2, 1],s=100,c='green', label = \"Cluster 1\")\n",
    "pl.scatter(kmeans.cluster_centers_[:,0],kmeans.cluster_centers_[:,1], s=300, c=\"yellow\",marker=\"*\", label=\"Centroides\")\n",
    "pl.title(\"Clusters\")\n",
    "pl.xlabel(\"Clusters.length\")\n",
    "pl.ylabel(\"Clusters.width\")\n",
    "pl.legend()\n",
    "\n",
    "\n",
    "# Aplicando el clustering jerárquico a nuestro dataset. Cluster X.\n",
    "jer2 = sch.dendrogram(sch.linkage(Y, method = 'ward'))\n",
    "\n",
    "hc1 = cluster.AgglomerativeClustering(n_clusters=5, affinity='euclidean', linkage='ward')\n",
    "especieHC1 = hc1.fit_predict(Y)\n",
    "\n",
    "print(especieHC1)\n",
    "\n",
    "pl.scatter(Y[especieHC1 == 0, 0], Y[especieHC1 == 0, 1],s=100,c='red', label = \"Cluster 2\")\n",
    "pl.scatter(Y[especieHC1 == 1, 0], Y[especieHC1 == 1, 1],s=100,c='blue', label = \"Cluster 2\")\n",
    "pl.scatter(Y[especieHC1 == 2, 0], Y[especieHC1 == 2, 1],s=100,c='green', label = \"Cluster 2\")\n",
    "pl.scatter(kmeans.cluster_centers_[:,0],kmeans.cluster_centers_[:,1], s=300, c=\"yellow\",marker=\"*\", label=\"Centroides\")\n",
    "pl.title(\"Clusters\")\n",
    "pl.xlabel(\"Clusters.length\")\n",
    "pl.ylabel(\"Clusters.width\")\n",
    "pl.legend()"
   ]
  }
 ],
 "metadata": {
  "kernelspec": {
   "display_name": "Python 3",
   "language": "python",
   "name": "python3"
  },
  "language_info": {
   "codemirror_mode": {
    "name": "ipython",
    "version": 3
   },
   "file_extension": ".py",
   "mimetype": "text/x-python",
   "name": "python",
   "nbconvert_exporter": "python",
   "pygments_lexer": "ipython3",
   "version": "3.10.10"
  },
  "orig_nbformat": 4,
  "vscode": {
   "interpreter": {
    "hash": "6085004884d7fe2d487ef9b1c33a506ee19a6a4095578a744a51e1ad1ca70fa0"
   }
  }
 },
 "nbformat": 4,
 "nbformat_minor": 2
}
